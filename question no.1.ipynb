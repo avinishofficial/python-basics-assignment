{
 "cells": [
  {
   "cell_type": "code",
   "execution_count": 23,
   "id": "115e77f3-e747-4af8-a0c4-cb95007287d8",
   "metadata": {},
   "outputs": [],
   "source": [
    "# Use descriptive and concise variable names\n",
    "total_cost = 100.0\n",
    "\n",
    "# Use lowercase letters and underscores to separate words\n",
    "average_score = 85.5\n",
    "\n",
    "# Avoid using special characters and spaces\n",
    "valid_variable_name = \"Hello, World!\"\n",
    "\n",
    "# Avoid using reserved keywords\n",
    "is_valid = True\n",
    "\n",
    "# Use meaningful and consistent naming conventions\n",
    "first_name = \"John\"\n",
    "last_name = \"Doe\"\n",
    "\n",
    "# Avoid using single character variable names\n",
    "i = 0\n",
    "j = 1\n",
    "\n",
    "# Use plural form for collections\n",
    "students = [\"Alice\", \"Bob\", \"Charlie\"]\n",
    "\n",
    "# Use a noun or a phrase as a variable name\n",
    "email_subject = \"Welcome to our website!\"\n",
    "\n",
    "# Avoid using abbreviations\n",
    "number_of_students = 10"
   ]
  },
  {
   "cell_type": "code",
   "execution_count": 24,
   "id": "efa45ecd-ec20-41a4-8fb5-61652b0e7b6a",
   "metadata": {},
   "outputs": [],
   "source": [
    "# Trying to declare a restricted keyword as a variable\n",
    "class_1 = \"Hello, World!\"  # Error: 'class' is a reserved keyword\n",
    "\n",
    "# Another example\n",
    "def_1= 10  # Error: 'def' is a reserved keyword\n",
    "\n",
    "# Yet another example\n",
    "try:\n",
    "    and_ = \" Foo\"  # Error: 'and' is a reserved keyword\n",
    "except SyntaxError as e:\n",
    "    print(e)  # Output: invalid syntax (<string>, line 1)\n",
    "\n",
    "# One more example\n",
    "if_= 5  # Error: 'if' is a reserved keyword"
   ]
  },
  {
   "cell_type": "code",
   "execution_count": 25,
   "id": "4c81c623-d3b5-4d0a-bc79-8a85f9ac3f3d",
   "metadata": {},
   "outputs": [
    {
     "name": "stdout",
     "output_type": "stream",
     "text": [
      "Hello, World!\n"
     ]
    }
   ],
   "source": [
    "# Create a string that will be used as a variable name\n",
    "var_name = \"my_dynamic_variable\"\n",
    "\n",
    "# Create a dictionary to store the dynamic variables\n",
    "dynamic_vars = {}\n",
    "\n",
    "# Create the dynamic variable using the string as the key\n",
    "dynamic_vars[var_name] = \"Hello, World!\"\n",
    "\n",
    "# Access the dynamic variable using the string as the key\n",
    "print(dynamic_vars[var_name])  # Output: Hello, World!"
   ]
  },
  {
   "cell_type": "code",
   "execution_count": 22,
   "id": "44172d29-2645-4d2a-a5ba-6f5893c22864",
   "metadata": {},
   "outputs": [
    {
     "name": "stdout",
     "output_type": "stream",
     "text": [
      "Hello, World!\n"
     ]
    }
   ],
   "source": [
    "_ = \"Hello, World!\"\n",
    "print(_)  # Output: Hello, World!\n",
    "\n",
    "\n",
    "#Example\n",
    "\n"
   ]
  },
  {
   "cell_type": "code",
   "execution_count": 7,
   "id": "a5188362-cf04-408e-95fc-0cb8147126d8",
   "metadata": {},
   "outputs": [
    {
     "name": "stdout",
     "output_type": "stream",
     "text": [
      "<class 'int'>\n",
      "<class 'str'>\n",
      "<class 'list'>\n",
      "<class 'dict'>\n"
     ]
    }
   ],
   "source": [
    "# Initially, x is an integer\n",
    "x = 5\n",
    "print(type(x))  # Output: <class 'int'>\n",
    "\n",
    "# Now, x becomes a string\n",
    "x = \"hello\"\n",
    "print(type(x))  # Output: <class 'tr'>\n",
    "\n",
    "# Later, x becomes a list\n",
    "x = [1, 2, 3]\n",
    "print(type(x))  # Output: <class 'list'>\n",
    "\n",
    "# And finally, x becomes a dictionary\n",
    "x = {\"name\": \"John\", \"age\": 30}\n",
    "print(type(x))  # Output: <class 'dict'>"
   ]
  },
  {
   "cell_type": "code",
   "execution_count": null,
   "id": "4116fb9c-6d34-4555-a487-5387f0767969",
   "metadata": {},
   "outputs": [],
   "source": []
  }
 ],
 "metadata": {
  "kernelspec": {
   "display_name": "Python 3 (ipykernel)",
   "language": "python",
   "name": "python3"
  },
  "language_info": {
   "codemirror_mode": {
    "name": "ipython",
    "version": 3
   },
   "file_extension": ".py",
   "mimetype": "text/x-python",
   "name": "python",
   "nbconvert_exporter": "python",
   "pygments_lexer": "ipython3",
   "version": "3.10.8"
  }
 },
 "nbformat": 4,
 "nbformat_minor": 5
}
